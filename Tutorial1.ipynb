{
  "nbformat": 4,
  "nbformat_minor": 0,
  "metadata": {
    "colab": {
      "provenance": [],
      "toc_visible": true,
      "include_colab_link": true
    },
    "kernelspec": {
      "name": "python3",
      "display_name": "Python 3"
    },
    "language_info": {
      "name": "python"
    }
  },
  "cells": [
    {
      "cell_type": "markdown",
      "metadata": {
        "id": "view-in-github",
        "colab_type": "text"
      },
      "source": [
        "<a href=\"https://colab.research.google.com/github/mkkkkkkkkkkkkkkkkkkkk/POSI-MON1/blob/main/Tutorial1.ipynb\" target=\"_parent\"><img src=\"https://colab.research.google.com/assets/colab-badge.svg\" alt=\"Open In Colab\"/></a>"
      ]
    },
    {
      "cell_type": "markdown",
      "source": [
        "# Tutorial 1"
      ],
      "metadata": {
        "id": "Z-M--VIdAJZf"
      }
    },
    {
      "cell_type": "markdown",
      "source": [
        "During the first few exercises, we will work with Google Colab. We will learn the basics of adding new scripts, saving them in a repository, as well as the fundamentals of working with data types, variables, and other basic constructs that you already know from Java."
      ],
      "metadata": {
        "id": "w0uXdskKAFN9"
      }
    },
    {
      "cell_type": "markdown",
      "source": [
        "## Introduction"
      ],
      "metadata": {
        "id": "ObUSshCKmC6N"
      }
    },
    {
      "cell_type": "markdown",
      "source": [
        "### Displaying data"
      ],
      "metadata": {
        "id": "AdoGP3sjmG5r"
      }
    },
    {
      "cell_type": "code",
      "source": [
        "print(\"Hello, world!\")\n",
        "print(\"Hello,\", \"Anna\")   # several elements can be combined"
      ],
      "metadata": {
        "colab": {
          "base_uri": "https://localhost:8080/"
        },
        "id": "QCJ3Rbi-l7HV",
        "outputId": "3e1a1c9d-204e-44dc-e1c7-619497201c4c"
      },
      "execution_count": null,
      "outputs": [
        {
          "output_type": "stream",
          "name": "stdout",
          "text": [
            "Hello, world!\n",
            "Hello, Anna\n"
          ]
        }
      ]
    },
    {
      "cell_type": "markdown",
      "source": [
        "### Variables and data types"
      ],
      "metadata": {
        "id": "oXG-ghfMmK0d"
      }
    },
    {
      "cell_type": "markdown",
      "source": [
        "A variable is created simply by assigning a value:"
      ],
      "metadata": {
        "id": "-B8HTxE4mQ5a"
      }
    },
    {
      "cell_type": "code",
      "source": [
        "x = 10          # integer (int)\n",
        "y = 3.14        # floating-point number (float)\n",
        "name = \"John\"   # string (str)\n",
        "student = True  # boolean value (bool)"
      ],
      "metadata": {
        "id": "DtGHwiMsmNKD"
      },
      "execution_count": null,
      "outputs": []
    },
    {
      "cell_type": "markdown",
      "source": [
        "Checking the variable type:"
      ],
      "metadata": {
        "id": "ltyQAS5MmiZV"
      }
    },
    {
      "cell_type": "code",
      "source": [
        "print(type(x))     # <class 'int'>\n",
        "print(type(name))  # <class 'str'>"
      ],
      "metadata": {
        "colab": {
          "base_uri": "https://localhost:8080/"
        },
        "id": "9nsJQYK1mi-8",
        "outputId": "758cf317-d7cd-4ed8-9b3e-4156cf87f989"
      },
      "execution_count": null,
      "outputs": [
        {
          "output_type": "stream",
          "name": "stdout",
          "text": [
            "<class 'int'>\n",
            "<class 'str'>\n"
          ]
        }
      ]
    },
    {
      "cell_type": "markdown",
      "source": [
        "### Arithmetic operators"
      ],
      "metadata": {
        "id": "FFMRo0BMmpu2"
      }
    },
    {
      "cell_type": "code",
      "source": [
        "a = 7\n",
        "b = 3\n",
        "print(a + b)    # addition → 10\n",
        "print(a - b)    # subtraction → 4\n",
        "print(a * b)    # multiplication → 21\n",
        "print(a / b)    # division → 2.333...\n",
        "print(a // b)   # integer division → 2\n",
        "print(a % b)    # remainder → 1\n",
        "print(a ** b)   # exponentiation → 343"
      ],
      "metadata": {
        "colab": {
          "base_uri": "https://localhost:8080/"
        },
        "id": "dmD729kEmsHX",
        "outputId": "ba0ddf74-49e0-4716-b604-f53635fb557b"
      },
      "execution_count": null,
      "outputs": [
        {
          "output_type": "stream",
          "name": "stdout",
          "text": [
            "10\n",
            "4\n",
            "21\n",
            "2.3333333333333335\n",
            "2\n",
            "1\n",
            "343\n"
          ]
        }
      ]
    },
    {
      "cell_type": "markdown",
      "source": [
        "### Comparison operators"
      ],
      "metadata": {
        "id": "lPlG__bam4Q-"
      }
    },
    {
      "cell_type": "code",
      "source": [
        "print(5 > 3)   # True\n",
        "print(5 == 3)  # False\n",
        "print(5 != 3)  # True"
      ],
      "metadata": {
        "colab": {
          "base_uri": "https://localhost:8080/"
        },
        "id": "z5k3eaN4m6pJ",
        "outputId": "49e86cc3-a19a-410c-acda-65a50d929b07"
      },
      "execution_count": null,
      "outputs": [
        {
          "output_type": "stream",
          "name": "stdout",
          "text": [
            "True\n",
            "False\n",
            "True\n"
          ]
        }
      ]
    },
    {
      "cell_type": "markdown",
      "source": [
        "### Type conversions"
      ],
      "metadata": {
        "id": "Qwa3_FxGm-af"
      }
    },
    {
      "cell_type": "code",
      "source": [
        "x = \"123\"\n",
        "y = int(x)     # conversion from string → int\n",
        "print(y + 10)  # 133\n",
        "z = str(456)   # conversion from int → string\n",
        "print(\"The number is \" + z)"
      ],
      "metadata": {
        "colab": {
          "base_uri": "https://localhost:8080/"
        },
        "id": "_q3PZP1Im_4S",
        "outputId": "e2f8907a-e223-451c-9744-ce43679c5d8c"
      },
      "execution_count": null,
      "outputs": [
        {
          "output_type": "stream",
          "name": "stdout",
          "text": [
            "133\n",
            "The number is 456\n"
          ]
        }
      ]
    },
    {
      "cell_type": "markdown",
      "source": [
        "### Getting input from the user"
      ],
      "metadata": {
        "id": "Ps8nblfVnMZk"
      }
    },
    {
      "cell_type": "code",
      "source": [
        "name = input(\"Enter your name: \")\n",
        "print(\"Hi,\", name)\n",
        "year = int(input(\"Enter your birth year: \"))\n",
        "age = 2025 - year\n",
        "print(\"You are\", age, \"years old.\")"
      ],
      "metadata": {
        "colab": {
          "base_uri": "https://localhost:8080/"
        },
        "id": "VKLm-WUknN5B",
        "outputId": "4589f9f2-db61-4e2a-ef40-18ab3842c2d2"
      },
      "execution_count": null,
      "outputs": [
        {
          "output_type": "stream",
          "name": "stdout",
          "text": [
            "Enter your name: John\n",
            "Hi, John\n",
            "Enter your birth year: 2000\n",
            "You are 25 years old.\n"
          ]
        }
      ]
    },
    {
      "cell_type": "markdown",
      "source": [
        "## Exercises 1–9"
      ],
      "metadata": {
        "id": "lDAWFxi_nmqq"
      }
    },
    {
      "cell_type": "markdown",
      "source": [
        "### Exercise 1  \n",
        "1. Create a variable named `x` with the value `10`.  \n",
        "2. Instruct the computer to show the value of this variable. Try doing it in two different ways: using the `print` function and without it.  \n",
        "3. Try to create four variables **a, b, c, d** and assign them the values **10, 20, 30, 40** in one line. Then print the result to the console.\n"
      ],
      "metadata": {
        "id": "w4zsMJGjnoz5"
      }
    },
    {
      "cell_type": "code",
      "source": [
        "x = 10\n",
        "print (x)\n",
        "\n",
        "a,b,c,d=10,20,30,40\n",
        "print(a,b,c,d)\n",
        "x\n"
      ],
      "metadata": {
        "id": "gtIdIIVooMRF",
        "colab": {
          "base_uri": "https://localhost:8080/"
        },
        "outputId": "77f28444-217e-42a0-e44b-eb803c275a36"
      },
      "execution_count": null,
      "outputs": [
        {
          "output_type": "stream",
          "name": "stdout",
          "text": [
            "10\n",
            "10 20 30 40\n"
          ]
        },
        {
          "output_type": "execute_result",
          "data": {
            "text/plain": [
              "10"
            ]
          },
          "metadata": {},
          "execution_count": 11
        }
      ]
    },
    {
      "cell_type": "markdown",
      "source": [
        "### Exercise 2  \n",
        "Write a program that:  \n",
        "1. Assigns your name to the variable `name`.  \n",
        "2. Displays a message in the form:  \n",
        "``` Hello, [name]! ```"
      ],
      "metadata": {
        "id": "3GCTbPrxoWzO"
      }
    },
    {
      "cell_type": "code",
      "source": [
        "name=\"Mariya\"\n",
        "print(\"Hello, \" + name + \"!\")"
      ],
      "metadata": {
        "id": "kSdW01krogWx",
        "colab": {
          "base_uri": "https://localhost:8080/"
        },
        "outputId": "c200ef6b-f3c7-4a2f-be37-4454cd8be3cb"
      },
      "execution_count": null,
      "outputs": [
        {
          "output_type": "stream",
          "name": "stdout",
          "text": [
            "Hello, Mariya!\n"
          ]
        }
      ]
    },
    {
      "cell_type": "markdown",
      "source": [
        "### Exercise 3  \n",
        "1. Create two variables: `a = 7`, `b = 3`  \n",
        "2. Calculate and display:  \n",
        "    * the sum,  \n",
        "    * the difference,  \n",
        "    * the product,  \n",
        "    * the quotient.  "
      ],
      "metadata": {
        "id": "T1ZLu6IForhk"
      }
    },
    {
      "cell_type": "code",
      "source": [
        "a=7\n",
        "b=3\n",
        "print(a+b)\n",
        "print(a-b)\n",
        "print(a*b)\n",
        "print(a/b)"
      ],
      "metadata": {
        "id": "MvN3LraXo44Y",
        "colab": {
          "base_uri": "https://localhost:8080/"
        },
        "outputId": "b0246adf-2536-474b-d6ef-251941acad05"
      },
      "execution_count": null,
      "outputs": [
        {
          "output_type": "stream",
          "name": "stdout",
          "text": [
            "10\n",
            "4\n",
            "21\n",
            "2.3333333333333335\n"
          ]
        }
      ]
    },
    {
      "cell_type": "markdown",
      "source": [
        "### Exercise 4  \n",
        "1. Create a variable `x = \"123\"`.  \n",
        "2. Convert `x` to an integer and add 10 to it.  \n",
        "3. Display the result as a string in the form:  \n",
        "```The result of the addition is: 133```"
      ],
      "metadata": {
        "id": "vQSCNzpupHCu"
      }
    },
    {
      "cell_type": "code",
      "source": [
        "x=\"123\"\n",
        "result=int(x)+10\n",
        "print(\"The result of the addition is:\", result)"
      ],
      "metadata": {
        "id": "FVZrkGHdpWAG",
        "colab": {
          "base_uri": "https://localhost:8080/"
        },
        "outputId": "04f9c0b3-295f-49a7-c2da-3a894474b32b"
      },
      "execution_count": null,
      "outputs": [
        {
          "output_type": "stream",
          "name": "stdout",
          "text": [
            "The result of the addition is: 133\n"
          ]
        }
      ]
    },
    {
      "cell_type": "markdown",
      "source": [
        "### Exercise 5  \n",
        "Write a program that:  \n",
        "1. Creates variables:  \n",
        " * `age = 20`  \n",
        " * `average = 4.75`  \n",
        " * `student = True`  \n",
        " * `name = \"Anna\"`  \n",
        "2. For each variable, prints its type, for example:  \n",
        "```The variable age is of type: <class 'int'>```"
      ],
      "metadata": {
        "id": "VkxxLwXSpfz_"
      }
    },
    {
      "cell_type": "code",
      "source": [
        "age = 20\n",
        "average = 4.75\n",
        "student = True\n",
        "name = \"Anna\"\n",
        "print(\"The variable age is of type:\", type(age))\n",
        "print(\"The variable average is of type:\", type(average))\n",
        "print(\"The variable student is of type:\", type(student))\n",
        "print(\"The variable name is of type:\", type(name))\n"
      ],
      "metadata": {
        "id": "O9NR0vCPpupn",
        "colab": {
          "base_uri": "https://localhost:8080/"
        },
        "outputId": "12bb9368-d324-43d2-f716-9569169ece8f"
      },
      "execution_count": null,
      "outputs": [
        {
          "output_type": "stream",
          "name": "stdout",
          "text": [
            "The variable age is of type: <class 'int'>\n",
            "The variable average is of type: <class 'float'>\n",
            "The variable student is of type: <class 'bool'>\n",
            "The variable name is of type: <class 'str'>\n"
          ]
        }
      ]
    },
    {
      "cell_type": "markdown",
      "source": [
        "### Exercise 6  \n",
        "1. Ask the user to enter their birth year.  \n",
        "2. Calculate their age (assuming the current year is 2025).  \n",
        "3. Display the message:  \n",
        "```You are [age] years old.```"
      ],
      "metadata": {
        "id": "j7zl9uEnp-gl"
      }
    },
    {
      "cell_type": "code",
      "source": [
        "print(\"Enter your birth year:\")\n",
        "year=int(input())\n",
        "age=2025-year\n",
        "print(\"You are\", age, \"years old\")"
      ],
      "metadata": {
        "id": "A5Z6kohfqEgI",
        "colab": {
          "base_uri": "https://localhost:8080/"
        },
        "outputId": "6ef867cb-d003-479b-bd93-b7d907aaeeb7"
      },
      "execution_count": null,
      "outputs": [
        {
          "output_type": "stream",
          "name": "stdout",
          "text": [
            "Enter your birth year:\n",
            "2003\n",
            "You are 22 years old\n"
          ]
        }
      ]
    },
    {
      "cell_type": "markdown",
      "source": [
        "### Exercise 7  \n",
        "Write a function `calculator(a, b, op)`, where `op` is a symbol: `+`, `-`, `*`, `/`.\n",
        "\n",
        "The function should return the result of the operation, for example:\n",
        "```\n",
        "calculator(4, 2, \"+\")  # 6\n",
        "calculator(4, 2, \"/\")  # 2.0\n",
        "```"
      ],
      "metadata": {
        "id": "kKPc0E-pqHql"
      }
    },
    {
      "cell_type": "code",
      "source": [
        "def calculator(a, b, op):\n",
        "    if op == \"+\":\n",
        "        return a + b\n",
        "    elif op == \"-\":\n",
        "        return a - b\n",
        "    elif op == \"*\":\n",
        "        return a * b\n",
        "    elif op == \"/\":\n",
        "        return a / b\n",
        "\n",
        "print(calculator(4, 2, \"+\"))\n",
        "print(calculator(4, 2, \"/\"))"
      ],
      "metadata": {
        "id": "iXJwuywHqZ7K",
        "colab": {
          "base_uri": "https://localhost:8080/"
        },
        "outputId": "898a7913-1672-4e8b-86f7-ae9d0f2951c8"
      },
      "execution_count": null,
      "outputs": [
        {
          "output_type": "stream",
          "name": "stdout",
          "text": [
            "6\n",
            "2.0\n"
          ]
        }
      ]
    },
    {
      "cell_type": "markdown",
      "source": [
        "### Exercise 8  \n",
        "Write a function `bmi(weight, height)` that:  \n",
        "* calculates the BMI index using the formula: BMI = $\\frac{\\text{weight}}{(\\text{height})^2}$\n",
        "* returns a message:  \n",
        "  * `< 18.5` → \"underweight\"  \n",
        "  * `18.5-24.9` → \"normal weight\"  \n",
        "  * `25-29.9` → \"overweight\"  \n"
      ],
      "metadata": {
        "id": "SmnSZBNcqa44"
      }
    },
    {
      "cell_type": "code",
      "source": [
        "def bmi(weight, height):\n",
        "    bmi = weight / (height ** 2)\n",
        "    if bmi < 18.5:\n",
        "        return \"underweight\"\n",
        "    elif 18.5 <= bmi <= 24.9:\n",
        "        return \"normal weight\"\n",
        "    else:\n",
        "        return \"overweight\"\n",
        "def bmi(weight, height):\n",
        "    bmi_value = weight / (height ** 2)\n",
        "    if bmi_value < 18.5:\n",
        "        return \"underweight\"\n",
        "    elif 18.5 <= bmi_value <= 24.9:\n",
        "        return \"normal weight\"\n",
        "    else:\n",
        "        return \"overweight\"\n",
        "\n",
        "weight = float(input(\"Enter  weight: \"))\n",
        "height = float(input(\"Enter height in meters: \"))\n",
        "print(\"BMI category is:\", bmi(weight, height))\n",
        "\n"
      ],
      "metadata": {
        "id": "aQ6yGtb3rHo-",
        "colab": {
          "base_uri": "https://localhost:8080/"
        },
        "outputId": "25da939e-6f72-410a-e851-12895168ae5a"
      },
      "execution_count": 12,
      "outputs": [
        {
          "output_type": "stream",
          "name": "stdout",
          "text": [
            "Enter  weight: 70\n",
            "Enter height in meters: 1.70\n",
            "BMI category is: normal weight\n"
          ]
        }
      ]
    },
    {
      "cell_type": "markdown",
      "source": [
        "### Exercise 9  \n",
        "Write a function `tax(income)` that calculates the tax for a given income (`income`) according to the simplified system:  \n",
        "* up to 30,000 zł → 10%  \n",
        "* from 30,001 to 100,000 zł → 20%  \n",
        "* above 100,000 zł → 30%  "
      ],
      "metadata": {
        "id": "BoWjwX_V7vtO"
      }
    },
    {
      "cell_type": "code",
      "source": [
        "def tax(income):\n",
        "    if income <= 30000:\n",
        "        return income * 0.1\n",
        "    elif income <= 100000:\n",
        "        return income * 0.2\n",
        "    else:\n",
        "        return income * 0.3\n",
        "\n",
        "print(tax(25000))\n",
        "print(tax(75000))\n",
        "print(tax(120000))\n"
      ],
      "metadata": {
        "id": "l6a3woqo8MYA",
        "colab": {
          "base_uri": "https://localhost:8080/"
        },
        "outputId": "93f795e0-0bbb-4c9b-bf9b-275f0b8efeb9"
      },
      "execution_count": 13,
      "outputs": [
        {
          "output_type": "stream",
          "name": "stdout",
          "text": [
            "2500.0\n",
            "15000.0\n",
            "36000.0\n"
          ]
        }
      ]
    },
    {
      "cell_type": "markdown",
      "source": [
        "##  Loops, arrays, collections"
      ],
      "metadata": {
        "id": "7bLrzBjg8Gxw"
      }
    },
    {
      "cell_type": "markdown",
      "source": [
        "### Creating a list"
      ],
      "metadata": {
        "id": "XdDUAG8w8OeX"
      }
    },
    {
      "cell_type": "code",
      "source": [
        "numbers = [1, 2, 3, 4, 5]   # list with values\n",
        "empty = []                  # empty list\n",
        "mixed = [1, \"text\", 3.14]   # list with different types"
      ],
      "metadata": {
        "id": "o5IhvAfN8RZD"
      },
      "execution_count": null,
      "outputs": []
    },
    {
      "cell_type": "markdown",
      "source": [
        "### Basic operations"
      ],
      "metadata": {
        "id": "GMYDDjoE8ZPs"
      }
    },
    {
      "cell_type": "code",
      "source": [
        "numbers = [10, 20, 30, 40]\n",
        "\n",
        "print(numbers[0])           # access element → 10\n",
        "print(numbers[-1])          # last element → 40\n",
        "\n",
        "numbers.append(50)          # add element at the end\n",
        "numbers.insert(1, 15)       # insert element at index\n",
        "numbers.remove(30)          # removes first occurrence of 30\n",
        "numbers.pop()               # removes last element\n",
        "numbers.sort()              # sort ascending\n",
        "numbers.reverse()           # reverse order\n",
        "print(len(numbers))         # length of the list"
      ],
      "metadata": {
        "colab": {
          "base_uri": "https://localhost:8080/"
        },
        "id": "jITFcgnR8bYn",
        "outputId": "c28ec67e-7b4a-45ce-b5bb-ec33b1428733"
      },
      "execution_count": null,
      "outputs": [
        {
          "output_type": "stream",
          "name": "stdout",
          "text": [
            "10\n",
            "40\n",
            "4\n"
          ]
        }
      ]
    },
    {
      "cell_type": "markdown",
      "source": [
        "### Searching and checking"
      ],
      "metadata": {
        "id": "yM0wwlH48atX"
      }
    },
    {
      "cell_type": "code",
      "source": [
        "print(20 in numbers)        # True, checks for presence\n",
        "print(numbers.index(40))    # index of element 40"
      ],
      "metadata": {
        "colab": {
          "base_uri": "https://localhost:8080/"
        },
        "id": "vFR5UxSs8qwz",
        "outputId": "fbe75bc4-9d2f-4853-d4dc-df8dc856545f"
      },
      "execution_count": null,
      "outputs": [
        {
          "output_type": "stream",
          "name": "stdout",
          "text": [
            "True\n",
            "0\n"
          ]
        }
      ]
    },
    {
      "cell_type": "markdown",
      "source": [
        "### Slicing (cutting out fragments)"
      ],
      "metadata": {
        "id": "zn1T3osJ8u1j"
      }
    },
    {
      "cell_type": "code",
      "source": [
        "print(numbers[1:3])   # from index 1 to 2\n",
        "print(numbers[:2])    # from the beginning to 1\n",
        "print(numbers[2:])    # from index 2 to the end\n",
        "print(numbers[::2])   # every second element"
      ],
      "metadata": {
        "colab": {
          "base_uri": "https://localhost:8080/"
        },
        "id": "8LTBCG9V8xg6",
        "outputId": "1ff04968-2fd4-48ba-aad8-0fc724607535"
      },
      "execution_count": null,
      "outputs": [
        {
          "output_type": "stream",
          "name": "stdout",
          "text": [
            "[20, 15]\n",
            "[40, 20]\n",
            "[15, 10]\n",
            "[40, 15]\n"
          ]
        }
      ]
    },
    {
      "cell_type": "markdown",
      "source": [
        "### Iteration over elements"
      ],
      "metadata": {
        "id": "OAxCun9384Zm"
      }
    },
    {
      "cell_type": "code",
      "source": [
        "for x in numbers:\n",
        " print(x)"
      ],
      "metadata": {
        "colab": {
          "base_uri": "https://localhost:8080/"
        },
        "id": "pKr6xkfF857t",
        "outputId": "4f3598dd-eeb9-497f-d320-8f4cdc4e86ea"
      },
      "execution_count": null,
      "outputs": [
        {
          "output_type": "stream",
          "name": "stdout",
          "text": [
            "40\n",
            "20\n",
            "15\n",
            "10\n"
          ]
        }
      ]
    },
    {
      "cell_type": "markdown",
      "source": [
        "### Iteration over indexes"
      ],
      "metadata": {
        "id": "oa2QQdxs886u"
      }
    },
    {
      "cell_type": "code",
      "source": [
        "for i in range(len(numbers)):\n",
        " print(i, numbers[i])"
      ],
      "metadata": {
        "colab": {
          "base_uri": "https://localhost:8080/"
        },
        "id": "MTRC5zxw8-MW",
        "outputId": "23ddc730-0952-4531-c65a-3d82e7a86e0b"
      },
      "execution_count": null,
      "outputs": [
        {
          "output_type": "stream",
          "name": "stdout",
          "text": [
            "0 40\n",
            "1 20\n",
            "2 15\n",
            "3 10\n"
          ]
        }
      ]
    },
    {
      "cell_type": "markdown",
      "source": [
        "### Enumeration (index + value simultaneously)"
      ],
      "metadata": {
        "id": "MCJsrNut8_vn"
      }
    },
    {
      "cell_type": "code",
      "source": [
        "for i, value in enumerate(numbers):\n",
        " print(i, value)"
      ],
      "metadata": {
        "colab": {
          "base_uri": "https://localhost:8080/"
        },
        "id": "YkN-5wSp9BFk",
        "outputId": "a6a71a67-2fcc-4d75-ffc7-48923c439a0d"
      },
      "execution_count": null,
      "outputs": [
        {
          "output_type": "stream",
          "name": "stdout",
          "text": [
            "0 40\n",
            "1 20\n",
            "2 15\n",
            "3 10\n"
          ]
        }
      ]
    },
    {
      "cell_type": "markdown",
      "source": [
        "### While loop"
      ],
      "metadata": {
        "id": "aaazWoE59CPg"
      }
    },
    {
      "cell_type": "code",
      "source": [
        " i = 0\n",
        " while i < len(numbers):\n",
        "  print(numbers[i])\n",
        "  i += 1"
      ],
      "metadata": {
        "colab": {
          "base_uri": "https://localhost:8080/"
        },
        "id": "iIz3Jvog9D-a",
        "outputId": "63719364-fc7c-4dd5-8341-3578b01b94e3"
      },
      "execution_count": null,
      "outputs": [
        {
          "output_type": "stream",
          "name": "stdout",
          "text": [
            "40\n",
            "20\n",
            "15\n",
            "10\n"
          ]
        }
      ]
    },
    {
      "cell_type": "markdown",
      "source": [
        "### List comprehension"
      ],
      "metadata": {
        "id": "AQkkdAS09GJX"
      }
    },
    {
      "cell_type": "code",
      "source": [
        "squares = [x**2 for x in numbers]\n",
        "print(squares)"
      ],
      "metadata": {
        "colab": {
          "base_uri": "https://localhost:8080/"
        },
        "id": "kw9zv6xM9HcS",
        "outputId": "8c8c4d2f-df86-4a07-95df-5c286afc3fe1"
      },
      "execution_count": null,
      "outputs": [
        {
          "output_type": "stream",
          "name": "stdout",
          "text": [
            "[1600, 400, 225, 100]\n"
          ]
        }
      ]
    },
    {
      "cell_type": "markdown",
      "source": [
        "## Exercise 10-14\n"
      ],
      "metadata": {
        "id": "5ZpI3uW79N4L"
      }
    },
    {
      "cell_type": "markdown",
      "source": [
        "### Exercise 10 - Reversing a list  \n",
        "Write a function that **reverses a list** without using the `reverse()` method or slicing with `[::-1]`.  \n",
        "\n",
        " (np. `[\"a\", \"b\", \"c\", \"d\"] → [\"d\", \"c\", \"b\", \"a\"]`)"
      ],
      "metadata": {
        "id": "NR8_pZh39SlW"
      }
    },
    {
      "cell_type": "code",
      "source": [
        "def reverse_list(list):\n",
        "    for i in range(int(len(list)/2)):\n",
        "        tmp =list[i]\n",
        "        list[i]=list[len(list)-1-i]\n",
        "        list[len(list)-1-i]=tmp\n",
        "    return list\n",
        "\n",
        "list=[\"a\", \"b\", \"c\", \"d\"]\n",
        "print(reverse_list([\"a\", \"b\", \"c\", \"d\"]))"
      ],
      "metadata": {
        "id": "8RR79mx39l9m",
        "colab": {
          "base_uri": "https://localhost:8080/"
        },
        "outputId": "f33091f2-61ec-4aeb-9825-8d1fa0f99bf6"
      },
      "execution_count": null,
      "outputs": [
        {
          "output_type": "stream",
          "name": "stdout",
          "text": [
            "['d', 'c', 'b', 'a']\n"
          ]
        }
      ]
    },
    {
      "cell_type": "markdown",
      "source": [
        "### Exercise 11 - Counting occurrences  \n",
        "For the list:\n",
        "\n",
        "```fruits = [\"apple\", \"banana\", \"apple\", \"orange\", \"banana\", \"apple\"]```\n",
        "\n",
        "Count how many times each fruit appears and store the result in a dictionary, for example:\n",
        "\n",
        "```{\"apple\": 3, \"banana\": 2, \"orange\": 1}```\n"
      ],
      "metadata": {
        "id": "NqSEMiUI9Wqo"
      }
    },
    {
      "cell_type": "code",
      "source": [
        "def count(items):\n",
        "    counts = {}\n",
        "    for item in items:\n",
        "        if item in counts:\n",
        "            counts[item] += 1\n",
        "        else:\n",
        "            counts[item] = 1\n",
        "    return counts\n",
        "fruits = [\"apple\", \"banana\", \"apple\", \"orange\", \"banana\", \"apple\"]\n",
        "print(count(fruits))\n"
      ],
      "metadata": {
        "id": "GZRCP0Yx94Te",
        "colab": {
          "base_uri": "https://localhost:8080/"
        },
        "outputId": "e9072931-f375-4ece-81f3-857ef105e6f7"
      },
      "execution_count": 15,
      "outputs": [
        {
          "output_type": "stream",
          "name": "stdout",
          "text": [
            "{'apple': 3, 'banana': 2, 'orange': 1}\n"
          ]
        }
      ]
    },
    {
      "cell_type": "markdown",
      "source": [
        "### Exercise 12 - Data normalization  \n",
        "You have a list of values:  \n",
        "`data = [10, 20, 30, 40, 50]`\n",
        "\n",
        "Write a function `normalize(data)` that returns a list of values scaled to the range `[0, 1]` according to the formula:\n",
        "\n",
        "$ x' = \\frac{x - min}{max - min}$"
      ],
      "metadata": {
        "id": "5HmVLCM995Kl"
      }
    },
    {
      "cell_type": "code",
      "source": [
        "def normalize(data):\n",
        "    min_val = min(data)\n",
        "    max_val = max(data)\n",
        "    return [(x - min_val) / (max_val - min_val) for x in data]\n",
        "data = [10, 20, 30, 40, 50]\n",
        "print(normalize(data))\n"
      ],
      "metadata": {
        "id": "Kx4ApUK4-Zgy",
        "colab": {
          "base_uri": "https://localhost:8080/"
        },
        "outputId": "99a0243a-bb6b-4618-dfb9-369e1ee4c690"
      },
      "execution_count": 17,
      "outputs": [
        {
          "output_type": "stream",
          "name": "stdout",
          "text": [
            "[0.0, 0.25, 0.5, 0.75, 1.0]\n"
          ]
        }
      ]
    },
    {
      "cell_type": "markdown",
      "source": [
        "### Exercise 13 - Bag of Words (word counting)  \n",
        "You have a list of sentences:  \n",
        "```\n",
        "sentences = [\n",
        " \"I like Python\",\n",
        " \"Python is great for AI\",\n",
        " \"I like AI\"\n",
        "]\n",
        " ```\n",
        "\n",
        "Write a function `bag_of_words(sentences)` that returns a dictionary with the frequency of each word.\n"
      ],
      "metadata": {
        "id": "MAnm4NFr-bBf"
      }
    },
    {
      "cell_type": "code",
      "source": [
        "sentences = [\n",
        "    \"I like Python\",\n",
        "    \"Python is great for AI\",\n",
        "    \"I like AI\"\n",
        "]\n",
        "\n",
        "def bag_of_words(sentences):\n",
        "    counts = {}\n",
        "\n",
        "    for sentence in sentences:\n",
        "        words = sentence.split()\n",
        "        for word in words:\n",
        "            word = word.lower()\n",
        "            if word in counts:\n",
        "                counts[word] += 1\n",
        "            else:\n",
        "                counts[word] = 1\n",
        "    return counts\n",
        "\n",
        "print(bag_of_words(sentences))\n"
      ],
      "metadata": {
        "id": "j_rKdrv_-qF4",
        "colab": {
          "base_uri": "https://localhost:8080/"
        },
        "outputId": "a16e0434-c58c-49cf-a60a-b63bfd180836"
      },
      "execution_count": 22,
      "outputs": [
        {
          "output_type": "stream",
          "name": "stdout",
          "text": [
            "{'i': 2, 'like': 2, 'python': 2, 'is': 1, 'great': 1, 'for': 1, 'ai': 2}\n"
          ]
        }
      ]
    },
    {
      "cell_type": "markdown",
      "source": [
        "### Exercise 14 - Perfect numbers  \n",
        "Write a function `is_perfect(n)` that checks if a number is **perfect**, meaning it is equal to the sum of its proper divisors.\n",
        "\n",
        "Example: `6` → divisors 1 + 2 + 3 = 6 → perfect number.\n"
      ],
      "metadata": {
        "id": "-OYCHz2Y-rko"
      }
    },
    {
      "cell_type": "code",
      "source": [
        "def is_perfect(n):\n",
        "    sum_divisors = 0\n",
        "    for i in range(1, n):\n",
        "        if n % i == 0:\n",
        "            sum_divisors += i\n",
        "    return sum_divisors == n\n",
        "print(is_perfect(6))\n",
        "print(is_perfect(28))\n",
        "print(is_perfect(12))\n"
      ],
      "metadata": {
        "id": "CkSi5HzX-6jX",
        "colab": {
          "base_uri": "https://localhost:8080/"
        },
        "outputId": "0a2d3297-4c14-4216-8b62-1f40b7249835"
      },
      "execution_count": 23,
      "outputs": [
        {
          "output_type": "stream",
          "name": "stdout",
          "text": [
            "True\n",
            "True\n",
            "False\n"
          ]
        }
      ]
    }
  ]
}